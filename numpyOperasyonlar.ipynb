{
 "cells": [
  {
   "cell_type": "code",
   "execution_count": 40,
   "id": "40a87faa",
   "metadata": {},
   "outputs": [],
   "source": [
    "import numpy as np"
   ]
  },
  {
   "cell_type": "code",
   "execution_count": 41,
   "id": "31aed0cc",
   "metadata": {},
   "outputs": [],
   "source": [
    "benimDizim = np.random.randint(0, 15, 10)"
   ]
  },
  {
   "cell_type": "code",
   "execution_count": 42,
   "id": "6325445d",
   "metadata": {},
   "outputs": [
    {
     "data": {
      "text/plain": [
       "array([ 0,  0,  7,  7,  3, 12, 13,  8, 12,  8])"
      ]
     },
     "execution_count": 42,
     "metadata": {},
     "output_type": "execute_result"
    }
   ],
   "source": [
    "benimDizim"
   ]
  },
  {
   "cell_type": "code",
   "execution_count": 43,
   "id": "008f5132",
   "metadata": {},
   "outputs": [
    {
     "data": {
      "text/plain": [
       "8"
      ]
     },
     "execution_count": 43,
     "metadata": {},
     "output_type": "execute_result"
    }
   ],
   "source": [
    "benimDizim[9]"
   ]
  },
  {
   "cell_type": "code",
   "execution_count": 44,
   "id": "f94c7aff",
   "metadata": {},
   "outputs": [
    {
     "data": {
      "text/plain": [
       "array([ 7,  3, 12])"
      ]
     },
     "execution_count": 44,
     "metadata": {},
     "output_type": "execute_result"
    }
   ],
   "source": [
    "benimDizim[3:6]"
   ]
  },
  {
   "cell_type": "code",
   "execution_count": 45,
   "id": "9face3b1",
   "metadata": {},
   "outputs": [],
   "source": [
    "benimDizim[3:6] = -1"
   ]
  },
  {
   "cell_type": "code",
   "execution_count": 46,
   "id": "bcb9a64e",
   "metadata": {},
   "outputs": [
    {
     "data": {
      "text/plain": [
       "array([ 0,  0,  7, -1, -1, -1, 13,  8, 12,  8])"
      ]
     },
     "execution_count": 46,
     "metadata": {},
     "output_type": "execute_result"
    }
   ],
   "source": [
    "benimDizim"
   ]
  },
  {
   "cell_type": "code",
   "execution_count": 47,
   "id": "83c2ed50",
   "metadata": {},
   "outputs": [],
   "source": [
    "yeniDizi = np.random.randint(1, 10, 10)"
   ]
  },
  {
   "cell_type": "code",
   "execution_count": 48,
   "id": "5a0b1fea",
   "metadata": {},
   "outputs": [
    {
     "data": {
      "text/plain": [
       "array([4, 8, 1, 5, 4, 7, 7, 5, 1, 1])"
      ]
     },
     "execution_count": 48,
     "metadata": {},
     "output_type": "execute_result"
    }
   ],
   "source": [
    "yeniDizi"
   ]
  },
  {
   "cell_type": "code",
   "execution_count": 49,
   "id": "41a115b5",
   "metadata": {},
   "outputs": [],
   "source": [
    "slicingDizisi = yeniDizi[3:8]"
   ]
  },
  {
   "cell_type": "code",
   "execution_count": 50,
   "id": "0c22ca64",
   "metadata": {},
   "outputs": [
    {
     "data": {
      "text/plain": [
       "array([5, 4, 7, 7, 5])"
      ]
     },
     "execution_count": 50,
     "metadata": {},
     "output_type": "execute_result"
    }
   ],
   "source": [
    "slicingDizisi"
   ]
  },
  {
   "cell_type": "code",
   "execution_count": 51,
   "id": "0231bd7b",
   "metadata": {},
   "outputs": [
    {
     "data": {
      "text/plain": [
       "array([5, 4, 7, 7, 5])"
      ]
     },
     "execution_count": 51,
     "metadata": {},
     "output_type": "execute_result"
    }
   ],
   "source": [
    "slicingDizisi[:]"
   ]
  },
  {
   "cell_type": "code",
   "execution_count": 52,
   "id": "21c4c323",
   "metadata": {},
   "outputs": [],
   "source": [
    "slicingDizisi[:] = 0"
   ]
  },
  {
   "cell_type": "code",
   "execution_count": 53,
   "id": "3297b07b",
   "metadata": {},
   "outputs": [
    {
     "data": {
      "text/plain": [
       "array([0, 0, 0, 0, 0])"
      ]
     },
     "execution_count": 53,
     "metadata": {},
     "output_type": "execute_result"
    }
   ],
   "source": [
    "slicingDizisi"
   ]
  },
  {
   "cell_type": "code",
   "execution_count": 54,
   "id": "76215046",
   "metadata": {},
   "outputs": [
    {
     "data": {
      "text/plain": [
       "array([4, 8, 1, 0, 0, 0, 0, 0, 1, 1])"
      ]
     },
     "execution_count": 54,
     "metadata": {},
     "output_type": "execute_result"
    }
   ],
   "source": [
    "yeniDizi ##yeniDizinin içinden slicing ile aldığımız kısmı değiştirince yeniDizide aldığımız kısımda değişti"
   ]
  },
  {
   "cell_type": "code",
   "execution_count": 55,
   "id": "88422a3c",
   "metadata": {},
   "outputs": [],
   "source": [
    "örnekDizi = np.arange(0,10)"
   ]
  },
  {
   "cell_type": "code",
   "execution_count": 56,
   "id": "f83cd23d",
   "metadata": {},
   "outputs": [
    {
     "data": {
      "text/plain": [
       "array([0, 1, 2, 3, 4, 5, 6, 7, 8, 9])"
      ]
     },
     "execution_count": 56,
     "metadata": {},
     "output_type": "execute_result"
    }
   ],
   "source": [
    "örnekDizi"
   ]
  },
  {
   "cell_type": "code",
   "execution_count": 57,
   "id": "e72a358c",
   "metadata": {},
   "outputs": [],
   "source": [
    "örnekDiziCopy = örnekDizi.copy()"
   ]
  },
  {
   "cell_type": "code",
   "execution_count": 58,
   "id": "cba5df5a",
   "metadata": {},
   "outputs": [
    {
     "data": {
      "text/plain": [
       "array([0, 1, 2, 3, 4, 5, 6, 7, 8, 9])"
      ]
     },
     "execution_count": 58,
     "metadata": {},
     "output_type": "execute_result"
    }
   ],
   "source": [
    "örnekDiziCopy"
   ]
  },
  {
   "cell_type": "code",
   "execution_count": 59,
   "id": "608d36d8",
   "metadata": {},
   "outputs": [],
   "source": [
    "örnekDiziCopySlicing = örnekDiziCopy[3:8]"
   ]
  },
  {
   "cell_type": "code",
   "execution_count": 60,
   "id": "7aebdfb5",
   "metadata": {},
   "outputs": [],
   "source": [
    "örnekDiziCopySlicing[:] = -1"
   ]
  },
  {
   "cell_type": "code",
   "execution_count": 61,
   "id": "dc3e05ef",
   "metadata": {},
   "outputs": [
    {
     "data": {
      "text/plain": [
       "array([-1, -1, -1, -1, -1])"
      ]
     },
     "execution_count": 61,
     "metadata": {},
     "output_type": "execute_result"
    }
   ],
   "source": [
    "örnekDiziCopySlicing"
   ]
  },
  {
   "cell_type": "code",
   "execution_count": 62,
   "id": "5c81f64a",
   "metadata": {},
   "outputs": [
    {
     "data": {
      "text/plain": [
       "array([ 0,  1,  2, -1, -1, -1, -1, -1,  8,  9])"
      ]
     },
     "execution_count": 62,
     "metadata": {},
     "output_type": "execute_result"
    }
   ],
   "source": [
    "örnekDiziCopy"
   ]
  },
  {
   "cell_type": "code",
   "execution_count": 63,
   "id": "0ddddd7d",
   "metadata": {},
   "outputs": [
    {
     "data": {
      "text/plain": [
       "array([0, 1, 2, 3, 4, 5, 6, 7, 8, 9])"
      ]
     },
     "execution_count": 63,
     "metadata": {},
     "output_type": "execute_result"
    }
   ],
   "source": [
    "örnekDizi"
   ]
  },
  {
   "cell_type": "markdown",
   "id": "bedf8503",
   "metadata": {},
   "source": [
    "## matrix"
   ]
  },
  {
   "cell_type": "code",
   "execution_count": 64,
   "id": "30d3fee4",
   "metadata": {},
   "outputs": [],
   "source": [
    "benimListem = [[10,20,30], [50,60,70], [80,90,40]]"
   ]
  },
  {
   "cell_type": "code",
   "execution_count": 70,
   "id": "464e1e16",
   "metadata": {},
   "outputs": [
    {
     "data": {
      "text/plain": [
       "[[10, 20, 30], [50, 60, 70], [80, 90, 40]]"
      ]
     },
     "execution_count": 70,
     "metadata": {},
     "output_type": "execute_result"
    }
   ],
   "source": [
    "benimListem"
   ]
  },
  {
   "cell_type": "code",
   "execution_count": 65,
   "id": "c73356e2",
   "metadata": {},
   "outputs": [],
   "source": [
    "benimMatrixDizim = np.array(benimListem)"
   ]
  },
  {
   "cell_type": "code",
   "execution_count": 66,
   "id": "0a775f39",
   "metadata": {},
   "outputs": [
    {
     "data": {
      "text/plain": [
       "array([[10, 20, 30],\n",
       "       [50, 60, 70],\n",
       "       [80, 90, 40]])"
      ]
     },
     "execution_count": 66,
     "metadata": {},
     "output_type": "execute_result"
    }
   ],
   "source": [
    "benimMatrixDizim"
   ]
  },
  {
   "cell_type": "code",
   "execution_count": 67,
   "id": "be72819d",
   "metadata": {},
   "outputs": [
    {
     "data": {
      "text/plain": [
       "array([10, 20, 30])"
      ]
     },
     "execution_count": 67,
     "metadata": {},
     "output_type": "execute_result"
    }
   ],
   "source": [
    "benimMatrixDizim[0]"
   ]
  },
  {
   "cell_type": "code",
   "execution_count": 68,
   "id": "2a910d0c",
   "metadata": {},
   "outputs": [
    {
     "data": {
      "text/plain": [
       "30"
      ]
     },
     "execution_count": 68,
     "metadata": {},
     "output_type": "execute_result"
    }
   ],
   "source": [
    "benimMatrixDizim[0][2]"
   ]
  },
  {
   "cell_type": "code",
   "execution_count": 71,
   "id": "939d23db",
   "metadata": {},
   "outputs": [
    {
     "data": {
      "text/plain": [
       "60"
      ]
     },
     "execution_count": 71,
     "metadata": {},
     "output_type": "execute_result"
    }
   ],
   "source": [
    "benimMatrixDizim[1][1]"
   ]
  },
  {
   "cell_type": "code",
   "execution_count": 72,
   "id": "dab9413d",
   "metadata": {},
   "outputs": [
    {
     "data": {
      "text/plain": [
       "array([30, 70, 40])"
      ]
     },
     "execution_count": 72,
     "metadata": {},
     "output_type": "execute_result"
    }
   ],
   "source": [
    "benimMatrixDizim[:,2]"
   ]
  },
  {
   "cell_type": "code",
   "execution_count": 73,
   "id": "777849cc",
   "metadata": {},
   "outputs": [
    {
     "data": {
      "text/plain": [
       "array([60, 90])"
      ]
     },
     "execution_count": 73,
     "metadata": {},
     "output_type": "execute_result"
    }
   ],
   "source": [
    "benimMatrixDizim[1:,1]"
   ]
  },
  {
   "cell_type": "code",
   "execution_count": 77,
   "id": "536a3aa4",
   "metadata": {},
   "outputs": [
    {
     "data": {
      "text/plain": [
       "array([[10, 20, 30],\n",
       "       [50, 60, 70],\n",
       "       [80, 90, 40]])"
      ]
     },
     "execution_count": 77,
     "metadata": {},
     "output_type": "execute_result"
    }
   ],
   "source": [
    "benimMatrixDizim"
   ]
  },
  {
   "cell_type": "code",
   "execution_count": 74,
   "id": "6bb93158",
   "metadata": {},
   "outputs": [
    {
     "data": {
      "text/plain": [
       "array([10, 20, 30])"
      ]
     },
     "execution_count": 74,
     "metadata": {},
     "output_type": "execute_result"
    }
   ],
   "source": [
    "benimMatrixDizim[0,:]"
   ]
  },
  {
   "cell_type": "code",
   "execution_count": 75,
   "id": "9bdc4254",
   "metadata": {},
   "outputs": [
    {
     "data": {
      "text/plain": [
       "array([10, 20, 30])"
      ]
     },
     "execution_count": 75,
     "metadata": {},
     "output_type": "execute_result"
    }
   ],
   "source": [
    "benimMatrixDizim[0,:]"
   ]
  },
  {
   "cell_type": "code",
   "execution_count": 76,
   "id": "d9a92a43",
   "metadata": {},
   "outputs": [
    {
     "data": {
      "text/plain": [
       "array([20, 30])"
      ]
     },
     "execution_count": 76,
     "metadata": {},
     "output_type": "execute_result"
    }
   ],
   "source": [
    "benimMatrixDizim[0,1:]"
   ]
  },
  {
   "cell_type": "code",
   "execution_count": 78,
   "id": "1782cd00",
   "metadata": {},
   "outputs": [
    {
     "data": {
      "text/plain": [
       "array([60])"
      ]
     },
     "execution_count": 78,
     "metadata": {},
     "output_type": "execute_result"
    }
   ],
   "source": [
    "benimMatrixDizim[1,1:2]"
   ]
  },
  {
   "cell_type": "code",
   "execution_count": 79,
   "id": "88d605a7",
   "metadata": {},
   "outputs": [],
   "source": [
    "yeniListe = ([0,1,2,3], [4,5,6,7], [8,9,10,11], [12,13,14,15], [16,17,18,19])"
   ]
  },
  {
   "cell_type": "code",
   "execution_count": 81,
   "id": "10aeb1fe",
   "metadata": {},
   "outputs": [],
   "source": [
    "yeniMatrix = np.array(yeniListe)"
   ]
  },
  {
   "cell_type": "code",
   "execution_count": 82,
   "id": "7735939b",
   "metadata": {},
   "outputs": [
    {
     "data": {
      "text/plain": [
       "array([[ 0,  1,  2,  3],\n",
       "       [ 4,  5,  6,  7],\n",
       "       [ 8,  9, 10, 11],\n",
       "       [12, 13, 14, 15],\n",
       "       [16, 17, 18, 19]])"
      ]
     },
     "execution_count": 82,
     "metadata": {},
     "output_type": "execute_result"
    }
   ],
   "source": [
    "yeniMatrix"
   ]
  },
  {
   "cell_type": "code",
   "execution_count": 83,
   "id": "6cc7ffe8",
   "metadata": {},
   "outputs": [
    {
     "data": {
      "text/plain": [
       "array([0, 1, 2, 3])"
      ]
     },
     "execution_count": 83,
     "metadata": {},
     "output_type": "execute_result"
    }
   ],
   "source": [
    "yeniMatrix[0]"
   ]
  },
  {
   "cell_type": "code",
   "execution_count": 85,
   "id": "deefeeda",
   "metadata": {},
   "outputs": [
    {
     "data": {
      "text/plain": [
       "array([[ 0,  1,  2,  3],\n",
       "       [12, 13, 14, 15],\n",
       "       [16, 17, 18, 19]])"
      ]
     },
     "execution_count": 85,
     "metadata": {},
     "output_type": "execute_result"
    }
   ],
   "source": [
    "yeniMatrix[[0,3,4]]"
   ]
  },
  {
   "cell_type": "markdown",
   "id": "0ea9eadf",
   "metadata": {},
   "source": [
    "## operasyonlar"
   ]
  },
  {
   "cell_type": "code",
   "execution_count": 90,
   "id": "b05352d9",
   "metadata": {},
   "outputs": [],
   "source": [
    "operasyonDizi = np.random.randint(1, 100, 20)"
   ]
  },
  {
   "cell_type": "code",
   "execution_count": 91,
   "id": "22f00446",
   "metadata": {},
   "outputs": [
    {
     "data": {
      "text/plain": [
       "array([32,  5, 32, 26, 17, 55, 84, 83, 60, 58, 36, 27, 91, 92,  1, 40, 70,\n",
       "       30, 14, 29])"
      ]
     },
     "execution_count": 91,
     "metadata": {},
     "output_type": "execute_result"
    }
   ],
   "source": [
    "operasyonDizi"
   ]
  },
  {
   "cell_type": "code",
   "execution_count": 92,
   "id": "dea5d962",
   "metadata": {},
   "outputs": [
    {
     "data": {
      "text/plain": [
       "array([False, False, False, False, False,  True,  True,  True,  True,\n",
       "        True, False, False,  True,  True, False, False,  True, False,\n",
       "       False, False])"
      ]
     },
     "execution_count": 92,
     "metadata": {},
     "output_type": "execute_result"
    }
   ],
   "source": [
    "operasyonDizi > 50"
   ]
  },
  {
   "cell_type": "code",
   "execution_count": 96,
   "id": "77fc38ac",
   "metadata": {},
   "outputs": [],
   "source": [
    "sonucDizisi = operasyonDizi > 50"
   ]
  },
  {
   "cell_type": "code",
   "execution_count": 97,
   "id": "a02a57a1",
   "metadata": {},
   "outputs": [
    {
     "data": {
      "text/plain": [
       "array([False, False, False, False, False,  True,  True,  True,  True,\n",
       "        True, False, False,  True,  True, False, False,  True, False,\n",
       "       False, False])"
      ]
     },
     "execution_count": 97,
     "metadata": {},
     "output_type": "execute_result"
    }
   ],
   "source": [
    "sonucDizisi"
   ]
  },
  {
   "cell_type": "code",
   "execution_count": 98,
   "id": "af82c738",
   "metadata": {},
   "outputs": [
    {
     "data": {
      "text/plain": [
       "array([55, 84, 83, 60, 58, 91, 92, 70])"
      ]
     },
     "execution_count": 98,
     "metadata": {},
     "output_type": "execute_result"
    }
   ],
   "source": [
    "operasyonDizi[sonucDizisi]"
   ]
  },
  {
   "cell_type": "code",
   "execution_count": 100,
   "id": "3f7d062a",
   "metadata": {},
   "outputs": [
    {
     "data": {
      "text/plain": [
       "array([55, 84, 83, 60, 58, 91, 92, 70])"
      ]
     },
     "execution_count": 100,
     "metadata": {},
     "output_type": "execute_result"
    }
   ],
   "source": [
    "operasyonDizi[operasyonDizi > 50]"
   ]
  },
  {
   "cell_type": "code",
   "execution_count": 95,
   "id": "8f51065d",
   "metadata": {},
   "outputs": [
    {
     "name": "stdout",
     "output_type": "stream",
     "text": [
      "[55, 84, 83, 60, 58, 91, 92, 70]\n"
     ]
    }
   ],
   "source": [
    "tempList = []\n",
    "for i in operasyonDizi:\n",
    "    if i > 50:\n",
    "        tempList.append(i)\n",
    "print(tempList)"
   ]
  },
  {
   "cell_type": "code",
   "execution_count": 101,
   "id": "90224992",
   "metadata": {},
   "outputs": [],
   "source": [
    "sonDizi = np.arange(0,20)"
   ]
  },
  {
   "cell_type": "code",
   "execution_count": 102,
   "id": "0375fae8",
   "metadata": {},
   "outputs": [
    {
     "data": {
      "text/plain": [
       "array([ 0,  1,  2,  3,  4,  5,  6,  7,  8,  9, 10, 11, 12, 13, 14, 15, 16,\n",
       "       17, 18, 19])"
      ]
     },
     "execution_count": 102,
     "metadata": {},
     "output_type": "execute_result"
    }
   ],
   "source": [
    "sonDizi"
   ]
  },
  {
   "cell_type": "code",
   "execution_count": 105,
   "id": "f39dcbde",
   "metadata": {},
   "outputs": [
    {
     "data": {
      "text/plain": [
       "array([ 0,  2,  4,  6,  8, 10, 12, 14, 16, 18, 20, 22, 24, 26, 28, 30, 32,\n",
       "       34, 36, 38])"
      ]
     },
     "execution_count": 105,
     "metadata": {},
     "output_type": "execute_result"
    }
   ],
   "source": [
    "sonDizi + sonDizi # aynı şey tüm operatörler için geçerli."
   ]
  },
  {
   "cell_type": "code",
   "execution_count": 106,
   "id": "40b1112f",
   "metadata": {},
   "outputs": [
    {
     "data": {
      "text/plain": [
       "array([ 0,  1,  2,  3,  4,  5,  6,  7,  8,  9, 10, 11, 12, 13, 14, 15, 16,\n",
       "       17, 18, 19])"
      ]
     },
     "execution_count": 106,
     "metadata": {},
     "output_type": "execute_result"
    }
   ],
   "source": [
    "sonDizi"
   ]
  },
  {
   "cell_type": "code",
   "execution_count": null,
   "id": "485a5277",
   "metadata": {},
   "outputs": [],
   "source": []
  }
 ],
 "metadata": {
  "kernelspec": {
   "display_name": "Python 3 (ipykernel)",
   "language": "python",
   "name": "python3"
  },
  "language_info": {
   "codemirror_mode": {
    "name": "ipython",
    "version": 3
   },
   "file_extension": ".py",
   "mimetype": "text/x-python",
   "name": "python",
   "nbconvert_exporter": "python",
   "pygments_lexer": "ipython3",
   "version": "3.9.12"
  }
 },
 "nbformat": 4,
 "nbformat_minor": 5
}
