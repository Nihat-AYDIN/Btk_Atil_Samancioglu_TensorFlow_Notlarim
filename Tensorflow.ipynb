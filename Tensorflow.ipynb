{
 "cells": [
  {
   "cell_type": "markdown",
   "id": "3dc9ecf8",
   "metadata": {},
   "source": [
    "# <span style = \"color:#5dac75\">Teorik Notlar</span> "
   ]
  },
  {
   "cell_type": "markdown",
   "id": "c7800e1f",
   "metadata": {},
   "source": [
    "## <span style=\"color:red;\">Perceptron :</span> "
   ]
  },
  {
   "cell_type": "markdown",
   "id": "40ebad27",
   "metadata": {},
   "source": [
    "Sinir ağlarının en küçük yapsıdır(nöron). Bu       yapılar genel olarak girdi alıp çıktı sağlarlar.\n",
    "Bu yapılar girilen girdiler için en doğru vercek\n",
    "denklemi oluşturmaya, öğrenmeye çalışırlar. Bunu yaparkende ağırlık, bias gibi değerleri değiştirirler.            "
   ]
  },
  {
   "cell_type": "markdown",
   "id": "4ccb5d6f",
   "metadata": {},
   "source": [
    "Üç katman vardır. Input layer, hidden layer ve output layer. Hidden layer'da iç katman sayısı iki ve ikiden fazla ise buna deep network denir."
   ]
  },
  {
   "cell_type": "markdown",
   "id": "0c0b323c",
   "metadata": {},
   "source": [
    "## <span style=\"color:red;\">Aktivasyon Fonksiyonları :</span> "
   ]
  },
  {
   "cell_type": "markdown",
   "id": "17aecd6a",
   "metadata": {},
   "source": [
    "<span style=\"color:#62a4b9;\">Sigmoid fonksiyonu:</span> <br>\n",
    "0 ile 1 arasında değer alır.<br>\n",
    "Genelde sınıflandırma problemlerinde işimize yarar.<br>\n",
    "<span style=\"color:#62a4b9;\">Tanh (Hiperbolik Tanjant) fonksiyonu:</span>\n",
    "<br>\n",
    "-1 ile 1 arasında değer alır.<br>\n",
    "Negatif değerlerle daha geniş bir kapsam sağlar ve genelde sınıflandırma problemlerinde işimize yarar.<br>\n",
    "<span style=\"color:#62a4b9;\">ReLU (Rectified Linear Unit):</span><br>\n",
    "0 ile sonsuz arasında değer alır.<br>\n",
    "Derin öğrenme alanında sıkça karşımıza çıkar.<br>\n",
    "<span style=\"color:#62a4b9;\">Linear Fonksiyonlar :</span><br>\n",
    "f(x) = x<br>\n",
    "Sonsuz değer alabilir fakat non-linear olmaması sebebiyle modellerde sorunlara yol açabilir."
   ]
  },
  {
   "cell_type": "markdown",
   "id": "05c6a2e0",
   "metadata": {},
   "source": [
    "# <span style = \"color:#5dac75\">Kod Örnekleri</span> "
   ]
  },
  {
   "cell_type": "code",
   "execution_count": 5,
   "id": "23a4b209",
   "metadata": {},
   "outputs": [],
   "source": [
    "import pandas as pd\n",
    "import seaborn as sbn\n",
    "import matplotlib.pyplot as plt"
   ]
  },
  {
   "cell_type": "code",
   "execution_count": 6,
   "id": "b992c10b",
   "metadata": {},
   "outputs": [],
   "source": [
    "dataFrame = pd.read_excel(\"bisiklet_fiyatlarii.xlsx\")"
   ]
  },
  {
   "cell_type": "code",
   "execution_count": 7,
   "id": "f40231a6",
   "metadata": {},
   "outputs": [
    {
     "data": {
      "text/html": [
       "<div>\n",
       "<style scoped>\n",
       "    .dataframe tbody tr th:only-of-type {\n",
       "        vertical-align: middle;\n",
       "    }\n",
       "\n",
       "    .dataframe tbody tr th {\n",
       "        vertical-align: top;\n",
       "    }\n",
       "\n",
       "    .dataframe thead th {\n",
       "        text-align: right;\n",
       "    }\n",
       "</style>\n",
       "<table border=\"1\" class=\"dataframe\">\n",
       "  <thead>\n",
       "    <tr style=\"text-align: right;\">\n",
       "      <th></th>\n",
       "      <th>Fiyat</th>\n",
       "      <th>BisikletOzellik1</th>\n",
       "      <th>BisikletOzellik2</th>\n",
       "    </tr>\n",
       "  </thead>\n",
       "  <tbody>\n",
       "    <tr>\n",
       "      <th>0</th>\n",
       "      <td>807.673876</td>\n",
       "      <td>1749.628226</td>\n",
       "      <td>1749.590668</td>\n",
       "    </tr>\n",
       "    <tr>\n",
       "      <th>1</th>\n",
       "      <td>959.227520</td>\n",
       "      <td>1748.007826</td>\n",
       "      <td>1751.824206</td>\n",
       "    </tr>\n",
       "    <tr>\n",
       "      <th>2</th>\n",
       "      <td>718.020033</td>\n",
       "      <td>1750.122967</td>\n",
       "      <td>1747.977026</td>\n",
       "    </tr>\n",
       "    <tr>\n",
       "      <th>3</th>\n",
       "      <td>945.668885</td>\n",
       "      <td>1749.916440</td>\n",
       "      <td>1750.771646</td>\n",
       "    </tr>\n",
       "    <tr>\n",
       "      <th>4</th>\n",
       "      <td>955.542968</td>\n",
       "      <td>1750.780519</td>\n",
       "      <td>1750.592430</td>\n",
       "    </tr>\n",
       "    <tr>\n",
       "      <th>5</th>\n",
       "      <td>950.221425</td>\n",
       "      <td>1749.463071</td>\n",
       "      <td>1751.099011</td>\n",
       "    </tr>\n",
       "    <tr>\n",
       "      <th>6</th>\n",
       "      <td>972.099912</td>\n",
       "      <td>1750.482746</td>\n",
       "      <td>1750.778662</td>\n",
       "    </tr>\n",
       "    <tr>\n",
       "      <th>7</th>\n",
       "      <td>730.747018</td>\n",
       "      <td>1750.724858</td>\n",
       "      <td>1748.037351</td>\n",
       "    </tr>\n",
       "    <tr>\n",
       "      <th>8</th>\n",
       "      <td>653.006430</td>\n",
       "      <td>1750.029061</td>\n",
       "      <td>1747.332994</td>\n",
       "    </tr>\n",
       "    <tr>\n",
       "      <th>9</th>\n",
       "      <td>1108.363012</td>\n",
       "      <td>1749.834880</td>\n",
       "      <td>1752.790342</td>\n",
       "    </tr>\n",
       "  </tbody>\n",
       "</table>\n",
       "</div>"
      ],
      "text/plain": [
       "         Fiyat  BisikletOzellik1  BisikletOzellik2\n",
       "0   807.673876       1749.628226       1749.590668\n",
       "1   959.227520       1748.007826       1751.824206\n",
       "2   718.020033       1750.122967       1747.977026\n",
       "3   945.668885       1749.916440       1750.771646\n",
       "4   955.542968       1750.780519       1750.592430\n",
       "5   950.221425       1749.463071       1751.099011\n",
       "6   972.099912       1750.482746       1750.778662\n",
       "7   730.747018       1750.724858       1748.037351\n",
       "8   653.006430       1750.029061       1747.332994\n",
       "9  1108.363012       1749.834880       1752.790342"
      ]
     },
     "execution_count": 7,
     "metadata": {},
     "output_type": "execute_result"
    }
   ],
   "source": [
    "dataFrame.head(10)"
   ]
  },
  {
   "cell_type": "code",
   "execution_count": 8,
   "id": "3118af14",
   "metadata": {},
   "outputs": [
    {
     "data": {
      "text/plain": [
       "<seaborn.axisgrid.PairGrid at 0x1fac33dd610>"
      ]
     },
     "execution_count": 8,
     "metadata": {},
     "output_type": "execute_result"
    },
    {
     "data": {
      "image/png": "[encoded data removed]",
      "text/plain": [
       "<Figure size 540x540 with 12 Axes>"
      ]
     },
     "metadata": {
      "needs_background": "light"
     },
     "output_type": "display_data"
    }
   ],
   "source": [
    "sbn.pairplot(dataFrame)"
   ]
  },
  {
   "cell_type": "markdown",
   "id": "47188d3a",
   "metadata": {},
   "source": [
    "## Veriyi test/train olarak bölmek"
   ]
  },
  {
   "cell_type": "code",
   "execution_count": 9,
   "id": "7f984ab2",
   "metadata": {},
   "outputs": [],
   "source": [
    "from sklearn.model_selection import train_test_split"
   ]
  },
  {
   "cell_type": "code",
   "execution_count": 10,
   "id": "5b5ea970",
   "metadata": {},
   "outputs": [],
   "source": [
    "#train_test_split()"
   ]
  },
  {
   "cell_type": "markdown",
   "id": "a6ca6c6d",
   "metadata": {},
   "source": [
    "Yukarda verilen fonksiyonun aldığı parametrelere bak;<br>\n",
    "X_train, X_test, y_train, y_test = train_test_split(\n",
    "...     X, y, test_size=0.33, random_state=42)\n",
    "şeklinde giriş alıyor.\n",
    "yani dizi olarak alıyor ayıracağı verileri."
   ]
  },
  {
   "cell_type": "code",
   "execution_count": 11,
   "id": "f94eedf9",
   "metadata": {},
   "outputs": [],
   "source": [
    "# y = ax + b\n",
    "# y -> label\n",
    "# x -> feataure\n",
    "\n",
    "y = dataFrame[\"Fiyat\"].values # numpy dizisi olarak alıyor\n",
    "x = dataFrame[[\"BisikletOzellik1\", \"BisikletOzellik2\"]].values # numpy dizisi olarak alıyor\n",
    "\n",
    "x_train, x_test, y_train, y_test = train_test_split(x, y, test_size=0.33, random_state=15)"
   ]
  },
  {
   "cell_type": "code",
   "execution_count": 12,
   "id": "5794f1d9",
   "metadata": {},
   "outputs": [
    {
     "data": {
      "text/plain": [
       "(670, 2)"
      ]
     },
     "execution_count": 12,
     "metadata": {},
     "output_type": "execute_result"
    }
   ],
   "source": [
    "x_train.shape"
   ]
  },
  {
   "cell_type": "code",
   "execution_count": 13,
   "id": "c6252450",
   "metadata": {},
   "outputs": [
    {
     "data": {
      "text/plain": [
       "(330, 2)"
      ]
     },
     "execution_count": 13,
     "metadata": {},
     "output_type": "execute_result"
    }
   ],
   "source": [
    "x_test.shape"
   ]
  },
  {
   "cell_type": "markdown",
   "id": "06abcddb",
   "metadata": {},
   "source": [
    "### Scaling ==> boyut küçültmek"
   ]
  },
  {
   "cell_type": "code",
   "execution_count": 14,
   "id": "c0e2ce68",
   "metadata": {},
   "outputs": [],
   "source": [
    "from sklearn.preprocessing import MinMaxScaler"
   ]
  },
  {
   "cell_type": "code",
   "execution_count": 15,
   "id": "d77ac66b",
   "metadata": {},
   "outputs": [],
   "source": [
    "scaler = MinMaxScaler() # bu sınıftan bir nesne oluşturduk"
   ]
  },
  {
   "cell_type": "code",
   "execution_count": 16,
   "id": "4122ebe2",
   "metadata": {},
   "outputs": [
    {
     "data": {
      "text/plain": [
       "MinMaxScaler()"
      ]
     },
     "execution_count": 16,
     "metadata": {},
     "output_type": "execute_result"
    }
   ],
   "source": [
    "scaler.fit(x_train) # Bununla ilgili araştırma yap"
   ]
  },
  {
   "cell_type": "code",
   "execution_count": 19,
   "id": "d702eeff",
   "metadata": {},
   "outputs": [],
   "source": [
    "x_train = scaler.transform(x_train)\n",
    "x_test = scaler.transform(x_test)\n",
    "# Örneğin, bir veri setinde \"yaş\" \n",
    "# özelliği 18-80 aralığında olabilirken, \n",
    "# \"gelir\" özelliği 20.000-500.000 aralığında \n",
    "# olabilir. MinMaxScaler yöntemi, bu iki özellik\n",
    "# için de minimum ve maksimum değerleri kullanarak,\n",
    "# verileri 0 ile 1 arasında bir değere ölçeklendirir.\n",
    "# Bu sayede, farklı aralıklarda olan özellikler,\n",
    "# aynı ölçekte karşılaştırılabilir hale gelir."
   ]
  },
  {
   "cell_type": "code",
   "execution_count": 18,
   "id": "90fc2916",
   "metadata": {},
   "outputs": [
    {
     "data": {
      "text/plain": [
       "(670, 2)"
      ]
     },
     "execution_count": 18,
     "metadata": {},
     "output_type": "execute_result"
    }
   ],
   "source": [
    "x_train.shape"
   ]
  },
  {
   "cell_type": "code",
   "execution_count": 15,
   "id": "452a9114",
   "metadata": {},
   "outputs": [],
   "source": [
    "import tensorflow as tf"
   ]
  },
  {
   "cell_type": "code",
   "execution_count": 16,
   "id": "4b326947",
   "metadata": {},
   "outputs": [],
   "source": [
    "from tensorflow.keras.models import Sequential\n",
    "from tensorflow.keras.layers import Dense"
   ]
  },
  {
   "cell_type": "code",
   "execution_count": 17,
   "id": "774aeefd",
   "metadata": {},
   "outputs": [],
   "source": [
    "model = Sequential()\n",
    "\n",
    "model.add(Dense(5, activation=\"relu\"))\n",
    "model.add(Dense(5, activation=\"relu\"))\n",
    "model.add(Dense(5, activation=\"relu\"))\n",
    "\n",
    "# Burada her add aslında sitede(playground.tensorflow.org) \n",
    "# eklediğimiz hidden layers'lardaki katmanlar oluyor\n",
    "# activation ile de aktivasyon fonksiyonumuzu seçiyoruz\n",
    "# herbirinin içinde yazdığımız \"5\" de o katmanda kaç\n",
    "# tane nöron olacak onu gösteriyor.\n",
    "\n",
    "model.add(Dense(1)) # Burada output layer'ı oluşturuyoruz\n",
    "\n",
    "model.compile(optimizer= \"rmsprop\", loss= \"mse\")\n",
    "\n",
    "# optimizer parametresi, modelin ağırlıklarını\n",
    "# nasıl güncelleyeceğini belirleyen algoritmayı seçer.\n",
    "# Burada \"rmsprop\" optimizerı seçilmiştir. \"rmsprop\",\n",
    "# Root Mean Square Propagation kısaltmasıdır ve \n",
    "# özellikle derin öğrenme modellerinde sık \n",
    "# kullanılan bir optimizer türüdür.\n",
    "\n",
    "# loss parametresi ise, modelin performansını\n",
    "# ölçen bir kayıp fonksiyonu (loss function) seçer.\n",
    "# Kayıp fonksiyonu, gerçek etiketler ile modelin \n",
    "# tahminleri arasındaki farkı hesaplayarak, modelin\n",
    "# ne kadar iyi öğrendiğini ölçer. Burada \"mse\" \n",
    "# (mean squared error) kayıp fonksiyonu seçilmiştir. \n",
    "# \"mse\", ortalama kare hatası anlamına gelir ve yaygın\n",
    "# olarak kullanılan bir kayıp fonksiyonudur.\n",
    "\n",
    "# Epoch sayısı, modelin eğitim verilerine ne kadar \n",
    "# süre boyunca maruz kalacağını belirler.\n",
    "# model 250 epoch boyunca eğitilir ve her epoch \n",
    "# sonunda eğitim verileri üzerindeki performansı kaydedilir."
   ]
  },
  {
   "cell_type": "code",
   "execution_count": 18,
   "id": "1d5f7cac",
   "metadata": {},
   "outputs": [
    {
     "name": "stdout",
     "output_type": "stream",
     "text": [
      "Epoch 1/250\n",
      "21/21 [==============================] - 2s 2ms/step - loss: 795606.1875\n",
      "Epoch 2/250\n",
      "21/21 [==============================] - 0s 2ms/step - loss: 795227.3750\n",
      "Epoch 3/250\n",
      "21/21 [==============================] - 0s 2ms/step - loss: 794829.0625\n",
      "Epoch 4/250\n",
      "21/21 [==============================] - 0s 2ms/step - loss: 794393.7500\n",
      "Epoch 5/250\n",
      "21/21 [==============================] - 0s 2ms/step - loss: 793928.6875\n",
      "Epoch 6/250\n",
      "21/21 [==============================] - 0s 2ms/step - loss: 793419.8750\n",
      "Epoch 7/250\n",
      "21/21 [==============================] - 0s 2ms/step - loss: 792854.3125\n",
      "Epoch 8/250\n",
      "21/21 [==============================] - 0s 2ms/step - loss: 792232.0625\n",
      "Epoch 9/250\n",
      "21/21 [==============================] - 0s 2ms/step - loss: 791541.6875\n",
      "Epoch 10/250\n",
      "21/21 [==============================] - 0s 2ms/step - loss: 790785.9375\n",
      "Epoch 11/250\n",
      "21/21 [==============================] - 0s 2ms/step - loss: 789955.3125\n",
      "Epoch 12/250\n",
      "21/21 [==============================] - 0s 2ms/step - loss: 789045.5625\n",
      "Epoch 13/250\n",
      "21/21 [==============================] - 0s 2ms/step - loss: 788046.6875\n",
      "Epoch 14/250\n",
      "21/21 [==============================] - 0s 2ms/step - loss: 786945.4375\n",
      "Epoch 15/250\n",
      "21/21 [==============================] - 0s 2ms/step - loss: 785737.1250\n",
      "Epoch 16/250\n",
      "21/21 [==============================] - 0s 2ms/step - loss: 784417.6250\n",
      "Epoch 17/250\n",
      "21/21 [==============================] - 0s 2ms/step - loss: 782981.7500\n",
      "Epoch 18/250\n",
      "21/21 [==============================] - 0s 2ms/step - loss: 781411.8750\n",
      "Epoch 19/250\n",
      "21/21 [==============================] - 0s 2ms/step - loss: 779715.7500\n",
      "Epoch 20/250\n",
      "21/21 [==============================] - 0s 2ms/step - loss: 777868.9375\n",
      "Epoch 21/250\n",
      "21/21 [==============================] - 0s 2ms/step - loss: 775877.2500\n",
      "Epoch 22/250\n",
      "21/21 [==============================] - 0s 2ms/step - loss: 773719.7500\n",
      "Epoch 23/250\n",
      "21/21 [==============================] - 0s 2ms/step - loss: 771407.1875\n",
      "Epoch 24/250\n",
      "21/21 [==============================] - 0s 2ms/step - loss: 768914.0000\n",
      "Epoch 25/250\n",
      "21/21 [==============================] - 0s 2ms/step - loss: 766242.0625\n",
      "Epoch 26/250\n",
      "21/21 [==============================] - 0s 2ms/step - loss: 763391.3125\n",
      "Epoch 27/250\n",
      "21/21 [==============================] - 0s 2ms/step - loss: 760334.1250\n",
      "Epoch 28/250\n",
      "21/21 [==============================] - 0s 2ms/step - loss: 757078.6250\n",
      "Epoch 29/250\n",
      "21/21 [==============================] - 0s 2ms/step - loss: 753622.5000\n",
      "Epoch 30/250\n",
      "21/21 [==============================] - 0s 2ms/step - loss: 749938.5625\n",
      "Epoch 31/250\n",
      "21/21 [==============================] - 0s 2ms/step - loss: 746024.6250\n",
      "Epoch 32/250\n",
      "21/21 [==============================] - 0s 2ms/step - loss: 741877.2500\n",
      "Epoch 33/250\n",
      "21/21 [==============================] - 0s 2ms/step - loss: 737489.8750\n",
      "Epoch 34/250\n",
      "21/21 [==============================] - 0s 2ms/step - loss: 732849.5000\n",
      "Epoch 35/250\n",
      "21/21 [==============================] - 0s 2ms/step - loss: 727952.3125\n",
      "Epoch 36/250\n",
      "21/21 [==============================] - 0s 3ms/step - loss: 722790.5000\n",
      "Epoch 37/250\n",
      "21/21 [==============================] - 0s 3ms/step - loss: 717367.6250\n",
      "Epoch 38/250\n",
      "21/21 [==============================] - 0s 2ms/step - loss: 711628.1250\n",
      "Epoch 39/250\n",
      "21/21 [==============================] - 0s 2ms/step - loss: 705601.8125\n",
      "Epoch 40/250\n",
      "21/21 [==============================] - 0s 2ms/step - loss: 699300.7500\n",
      "Epoch 41/250\n",
      "21/21 [==============================] - 0s 3ms/step - loss: 692693.9375\n",
      "Epoch 42/250\n",
      "21/21 [==============================] - 0s 3ms/step - loss: 685772.8125\n",
      "Epoch 43/250\n",
      "21/21 [==============================] - 0s 3ms/step - loss: 678575.3125\n",
      "Epoch 44/250\n",
      "21/21 [==============================] - 0s 2ms/step - loss: 671045.6250\n",
      "Epoch 45/250\n",
      "21/21 [==============================] - 0s 2ms/step - loss: 663139.3125\n",
      "Epoch 46/250\n",
      "21/21 [==============================] - 0s 2ms/step - loss: 654919.0625\n",
      "Epoch 47/250\n",
      "21/21 [==============================] - 0s 2ms/step - loss: 646363.1875\n",
      "Epoch 48/250\n",
      "21/21 [==============================] - 0s 2ms/step - loss: 637476.5000\n",
      "Epoch 49/250\n",
      "21/21 [==============================] - 0s 2ms/step - loss: 628288.9375\n",
      "Epoch 50/250\n",
      "21/21 [==============================] - 0s 2ms/step - loss: 618660.6250\n",
      "Epoch 51/250\n",
      "21/21 [==============================] - 0s 2ms/step - loss: 608754.1875\n",
      "Epoch 52/250\n",
      "21/21 [==============================] - 0s 3ms/step - loss: 598536.8125\n",
      "Epoch 53/250\n",
      "21/21 [==============================] - 0s 2ms/step - loss: 587931.8125\n",
      "Epoch 54/250\n",
      "21/21 [==============================] - 0s 2ms/step - loss: 576942.3125\n",
      "Epoch 55/250\n",
      "21/21 [==============================] - 0s 2ms/step - loss: 565585.3125\n",
      "Epoch 56/250\n",
      "21/21 [==============================] - 0s 2ms/step - loss: 553968.8750\n",
      "Epoch 57/250\n",
      "21/21 [==============================] - 0s 2ms/step - loss: 542006.3750\n",
      "Epoch 58/250\n",
      "21/21 [==============================] - 0s 2ms/step - loss: 529581.6875\n",
      "Epoch 59/250\n",
      "21/21 [==============================] - 0s 2ms/step - loss: 516919.8438\n",
      "Epoch 60/250\n",
      "21/21 [==============================] - 0s 2ms/step - loss: 503948.1250\n",
      "Epoch 61/250\n",
      "21/21 [==============================] - 0s 2ms/step - loss: 490643.6250\n",
      "Epoch 62/250\n",
      "21/21 [==============================] - 0s 3ms/step - loss: 476980.3438\n",
      "Epoch 63/250\n",
      "21/21 [==============================] - 0s 4ms/step - loss: 463040.1875\n",
      "Epoch 64/250\n",
      "21/21 [==============================] - 0s 4ms/step - loss: 448791.2500\n",
      "Epoch 65/250\n",
      "21/21 [==============================] - 0s 6ms/step - loss: 434284.8125\n",
      "Epoch 66/250\n",
      "21/21 [==============================] - 0s 4ms/step - loss: 419499.0938\n",
      "Epoch 67/250\n",
      "21/21 [==============================] - 0s 4ms/step - loss: 404458.1250\n",
      "Epoch 68/250\n",
      "21/21 [==============================] - 0s 4ms/step - loss: 389109.1562\n",
      "Epoch 69/250\n",
      "21/21 [==============================] - 0s 4ms/step - loss: 373542.7812\n",
      "Epoch 70/250\n",
      "21/21 [==============================] - 0s 5ms/step - loss: 357930.7812\n",
      "Epoch 71/250\n",
      "21/21 [==============================] - 0s 3ms/step - loss: 342089.0312\n",
      "Epoch 72/250\n",
      "21/21 [==============================] - 0s 4ms/step - loss: 326036.3438\n",
      "Epoch 73/250\n",
      "21/21 [==============================] - 0s 3ms/step - loss: 310001.9688\n",
      "Epoch 74/250\n",
      "21/21 [==============================] - 0s 3ms/step - loss: 293844.5000\n",
      "Epoch 75/250\n",
      "21/21 [==============================] - 0s 3ms/step - loss: 277558.6250\n",
      "Epoch 76/250\n",
      "21/21 [==============================] - 0s 4ms/step - loss: 261285.7344\n",
      "Epoch 77/250\n",
      "21/21 [==============================] - 0s 4ms/step - loss: 245098.8438\n",
      "Epoch 78/250\n",
      "21/21 [==============================] - 0s 3ms/step - loss: 228882.8906\n",
      "Epoch 79/250\n",
      "21/21 [==============================] - 0s 3ms/step - loss: 212789.0312\n",
      "Epoch 80/250\n",
      "21/21 [==============================] - 0s 3ms/step - loss: 196875.6250\n",
      "Epoch 81/250\n",
      "21/21 [==============================] - 0s 3ms/step - loss: 181168.2812\n",
      "Epoch 82/250\n",
      "21/21 [==============================] - 0s 4ms/step - loss: 165745.5312\n",
      "Epoch 83/250\n",
      "21/21 [==============================] - 0s 3ms/step - loss: 150707.8438\n",
      "Epoch 84/250\n",
      "21/21 [==============================] - 0s 3ms/step - loss: 135943.9375\n",
      "Epoch 85/250\n",
      "21/21 [==============================] - 0s 4ms/step - loss: 121668.1797\n",
      "Epoch 86/250\n",
      "21/21 [==============================] - 0s 4ms/step - loss: 107846.4375\n",
      "Epoch 87/250\n",
      "21/21 [==============================] - 0s 3ms/step - loss: 94588.5078\n",
      "Epoch 88/250\n",
      "21/21 [==============================] - 0s 3ms/step - loss: 81918.4922\n",
      "Epoch 89/250\n",
      "21/21 [==============================] - 0s 3ms/step - loss: 70081.8203\n",
      "Epoch 90/250\n",
      "21/21 [==============================] - 0s 2ms/step - loss: 59036.9727\n",
      "Epoch 91/250\n",
      "21/21 [==============================] - 0s 2ms/step - loss: 48866.8555\n",
      "Epoch 92/250\n",
      "21/21 [==============================] - 0s 3ms/step - loss: 39488.6133\n",
      "Epoch 93/250\n",
      "21/21 [==============================] - 0s 3ms/step - loss: 31252.3125\n",
      "Epoch 94/250\n",
      "21/21 [==============================] - 0s 3ms/step - loss: 24153.6621\n",
      "Epoch 95/250\n",
      "21/21 [==============================] - 0s 3ms/step - loss: 18230.3047\n",
      "Epoch 96/250\n",
      "21/21 [==============================] - 0s 2ms/step - loss: 13557.2744\n",
      "Epoch 97/250\n",
      "21/21 [==============================] - 0s 3ms/step - loss: 10149.2783\n",
      "Epoch 98/250\n",
      "21/21 [==============================] - 0s 3ms/step - loss: 8060.1558\n",
      "Epoch 99/250\n",
      "21/21 [==============================] - 0s 3ms/step - loss: 7099.3999\n",
      "Epoch 100/250\n",
      "21/21 [==============================] - 0s 3ms/step - loss: 6785.1099\n",
      "Epoch 101/250\n",
      "21/21 [==============================] - 0s 2ms/step - loss: 6676.5200\n",
      "Epoch 102/250\n",
      "21/21 [==============================] - 0s 2ms/step - loss: 6569.4746\n",
      "Epoch 103/250\n",
      "21/21 [==============================] - 0s 3ms/step - loss: 6462.5151\n",
      "Epoch 104/250\n",
      "21/21 [==============================] - 0s 3ms/step - loss: 6366.1113\n",
      "Epoch 105/250\n",
      "21/21 [==============================] - 0s 3ms/step - loss: 6258.9985\n",
      "Epoch 106/250\n",
      "21/21 [==============================] - 0s 3ms/step - loss: 6157.6914\n",
      "Epoch 107/250\n",
      "21/21 [==============================] - 0s 3ms/step - loss: 6063.7598\n",
      "Epoch 108/250\n",
      "21/21 [==============================] - 0s 4ms/step - loss: 5953.2549\n",
      "Epoch 109/250\n",
      "21/21 [==============================] - 0s 4ms/step - loss: 5858.1260\n",
      "Epoch 110/250\n",
      "21/21 [==============================] - 0s 4ms/step - loss: 5767.3350\n",
      "Epoch 111/250\n",
      "21/21 [==============================] - 0s 3ms/step - loss: 5669.5879\n",
      "Epoch 112/250\n",
      "21/21 [==============================] - 0s 4ms/step - loss: 5587.8970\n",
      "Epoch 113/250\n",
      "21/21 [==============================] - 0s 4ms/step - loss: 5481.9683\n",
      "Epoch 114/250\n",
      "21/21 [==============================] - 0s 5ms/step - loss: 5383.8682\n",
      "Epoch 115/250\n",
      "21/21 [==============================] - 0s 4ms/step - loss: 5281.3140\n",
      "Epoch 116/250\n",
      "21/21 [==============================] - 0s 4ms/step - loss: 5186.2490\n",
      "Epoch 117/250\n",
      "21/21 [==============================] - 0s 4ms/step - loss: 5092.6499\n",
      "Epoch 118/250\n",
      "21/21 [==============================] - 0s 4ms/step - loss: 4998.7793\n",
      "Epoch 119/250\n",
      "21/21 [==============================] - 0s 5ms/step - loss: 4910.2227\n",
      "Epoch 120/250\n",
      "21/21 [==============================] - 0s 4ms/step - loss: 4820.8022\n",
      "Epoch 121/250\n",
      "21/21 [==============================] - 0s 4ms/step - loss: 4717.0532\n",
      "Epoch 122/250\n",
      "21/21 [==============================] - 0s 4ms/step - loss: 4647.9302\n",
      "Epoch 123/250\n",
      "21/21 [==============================] - 0s 4ms/step - loss: 4548.4912\n",
      "Epoch 124/250\n",
      "21/21 [==============================] - 0s 5ms/step - loss: 4454.8281\n",
      "Epoch 125/250\n",
      "21/21 [==============================] - 0s 5ms/step - loss: 4376.3789\n",
      "Epoch 126/250\n",
      "21/21 [==============================] - 0s 4ms/step - loss: 4288.7817\n",
      "Epoch 127/250\n",
      "21/21 [==============================] - 0s 5ms/step - loss: 4210.0630\n",
      "Epoch 128/250\n",
      "21/21 [==============================] - 0s 5ms/step - loss: 4121.9756\n",
      "Epoch 129/250\n",
      "21/21 [==============================] - 0s 6ms/step - loss: 4034.7083\n",
      "Epoch 130/250\n",
      "21/21 [==============================] - 0s 5ms/step - loss: 3948.1121\n",
      "Epoch 131/250\n",
      "21/21 [==============================] - 0s 5ms/step - loss: 3891.9302\n",
      "Epoch 132/250\n",
      "21/21 [==============================] - 0s 5ms/step - loss: 3796.8066\n",
      "Epoch 133/250\n",
      "21/21 [==============================] - 0s 6ms/step - loss: 3713.3943\n",
      "Epoch 134/250\n",
      "21/21 [==============================] - 0s 4ms/step - loss: 3622.1245\n",
      "Epoch 135/250\n",
      "21/21 [==============================] - 0s 5ms/step - loss: 3563.2607\n",
      "Epoch 136/250\n",
      "21/21 [==============================] - 0s 6ms/step - loss: 3484.9822\n",
      "Epoch 137/250\n",
      "21/21 [==============================] - 0s 6ms/step - loss: 3409.4204\n",
      "Epoch 138/250\n",
      "21/21 [==============================] - 0s 4ms/step - loss: 3330.9844\n",
      "Epoch 139/250\n",
      "21/21 [==============================] - 0s 4ms/step - loss: 3261.9204\n",
      "Epoch 140/250\n",
      "21/21 [==============================] - 0s 4ms/step - loss: 3185.1428\n",
      "Epoch 141/250\n",
      "21/21 [==============================] - 0s 4ms/step - loss: 3109.4639\n",
      "Epoch 142/250\n",
      "21/21 [==============================] - 0s 4ms/step - loss: 3027.1770\n",
      "Epoch 143/250\n",
      "21/21 [==============================] - 0s 6ms/step - loss: 2948.9595\n",
      "Epoch 144/250\n",
      "21/21 [==============================] - 0s 4ms/step - loss: 2872.4958\n",
      "Epoch 145/250\n",
      "21/21 [==============================] - 0s 5ms/step - loss: 2795.5740\n",
      "Epoch 146/250\n",
      "21/21 [==============================] - 0s 4ms/step - loss: 2719.3555\n",
      "Epoch 147/250\n",
      "21/21 [==============================] - 0s 4ms/step - loss: 2637.4924\n",
      "Epoch 148/250\n",
      "21/21 [==============================] - 0s 4ms/step - loss: 2564.1841\n",
      "Epoch 149/250\n",
      "21/21 [==============================] - 0s 6ms/step - loss: 2489.8342\n",
      "Epoch 150/250\n",
      "21/21 [==============================] - 0s 4ms/step - loss: 2424.8950\n",
      "Epoch 151/250\n",
      "21/21 [==============================] - 0s 4ms/step - loss: 2362.3491\n",
      "Epoch 152/250\n",
      "21/21 [==============================] - 0s 4ms/step - loss: 2293.0413\n",
      "Epoch 153/250\n",
      "21/21 [==============================] - 0s 4ms/step - loss: 2221.9543\n",
      "Epoch 154/250\n",
      "21/21 [==============================] - 0s 5ms/step - loss: 2143.8398\n",
      "Epoch 155/250\n",
      "21/21 [==============================] - 0s 4ms/step - loss: 2084.4238\n",
      "Epoch 156/250\n",
      "21/21 [==============================] - 0s 4ms/step - loss: 2020.9651\n",
      "Epoch 157/250\n",
      "21/21 [==============================] - 0s 4ms/step - loss: 1957.1970\n",
      "Epoch 158/250\n",
      "21/21 [==============================] - 0s 4ms/step - loss: 1898.2783\n",
      "Epoch 159/250\n",
      "21/21 [==============================] - 0s 5ms/step - loss: 1839.4891\n",
      "Epoch 160/250\n",
      "21/21 [==============================] - 0s 4ms/step - loss: 1780.6715\n",
      "Epoch 161/250\n",
      "21/21 [==============================] - 0s 4ms/step - loss: 1716.3820\n",
      "Epoch 162/250\n",
      "21/21 [==============================] - 0s 3ms/step - loss: 1659.3979\n",
      "Epoch 163/250\n",
      "21/21 [==============================] - 0s 4ms/step - loss: 1595.8903\n",
      "Epoch 164/250\n",
      "21/21 [==============================] - 0s 3ms/step - loss: 1543.3917\n",
      "Epoch 165/250\n",
      "21/21 [==============================] - 0s 4ms/step - loss: 1488.6416\n",
      "Epoch 166/250\n",
      "21/21 [==============================] - 0s 4ms/step - loss: 1440.9706\n",
      "Epoch 167/250\n",
      "21/21 [==============================] - 0s 4ms/step - loss: 1391.9413\n",
      "Epoch 168/250\n",
      "21/21 [==============================] - 0s 4ms/step - loss: 1344.2998\n",
      "Epoch 169/250\n",
      "21/21 [==============================] - 0s 6ms/step - loss: 1297.3622\n",
      "Epoch 170/250\n",
      "21/21 [==============================] - 0s 5ms/step - loss: 1245.0414\n",
      "Epoch 171/250\n",
      "21/21 [==============================] - 0s 4ms/step - loss: 1194.5002\n",
      "Epoch 172/250\n",
      "21/21 [==============================] - 0s 5ms/step - loss: 1139.2142\n",
      "Epoch 173/250\n",
      "21/21 [==============================] - 0s 5ms/step - loss: 1090.6620\n",
      "Epoch 174/250\n",
      "21/21 [==============================] - 0s 5ms/step - loss: 1047.9205\n",
      "Epoch 175/250\n",
      "21/21 [==============================] - 0s 5ms/step - loss: 1002.5743\n",
      "Epoch 176/250\n",
      "21/21 [==============================] - 0s 5ms/step - loss: 953.1366\n",
      "Epoch 177/250\n",
      "21/21 [==============================] - 0s 5ms/step - loss: 920.0402\n",
      "Epoch 178/250\n",
      "21/21 [==============================] - 0s 5ms/step - loss: 869.1429\n",
      "Epoch 179/250\n",
      "21/21 [==============================] - 0s 8ms/step - loss: 827.3121\n",
      "Epoch 180/250\n",
      "21/21 [==============================] - 0s 5ms/step - loss: 792.1522\n",
      "Epoch 181/250\n",
      "21/21 [==============================] - 0s 5ms/step - loss: 754.8588\n",
      "Epoch 182/250\n",
      "21/21 [==============================] - 0s 5ms/step - loss: 713.9433\n",
      "Epoch 183/250\n",
      "21/21 [==============================] - 0s 4ms/step - loss: 681.0943\n",
      "Epoch 184/250\n",
      "21/21 [==============================] - 0s 6ms/step - loss: 641.7498\n",
      "Epoch 185/250\n",
      "21/21 [==============================] - 0s 4ms/step - loss: 604.8959\n",
      "Epoch 186/250\n",
      "21/21 [==============================] - 0s 4ms/step - loss: 572.0004\n",
      "Epoch 187/250\n",
      "21/21 [==============================] - 0s 4ms/step - loss: 539.9574\n",
      "Epoch 188/250\n",
      "21/21 [==============================] - 0s 4ms/step - loss: 512.1288\n",
      "Epoch 189/250\n",
      "21/21 [==============================] - 0s 4ms/step - loss: 483.1224\n",
      "Epoch 190/250\n",
      "21/21 [==============================] - 0s 4ms/step - loss: 454.2264\n",
      "Epoch 191/250\n",
      "21/21 [==============================] - 0s 4ms/step - loss: 423.6049\n",
      "Epoch 192/250\n"
     ]
    },
    {
     "name": "stdout",
     "output_type": "stream",
     "text": [
      "21/21 [==============================] - 0s 5ms/step - loss: 398.0821\n",
      "Epoch 193/250\n",
      "21/21 [==============================] - 0s 4ms/step - loss: 377.3664\n",
      "Epoch 194/250\n",
      "21/21 [==============================] - 0s 4ms/step - loss: 353.5722\n",
      "Epoch 195/250\n",
      "21/21 [==============================] - 0s 3ms/step - loss: 333.6925\n",
      "Epoch 196/250\n",
      "21/21 [==============================] - 0s 3ms/step - loss: 312.9276\n",
      "Epoch 197/250\n",
      "21/21 [==============================] - 0s 4ms/step - loss: 290.8870\n",
      "Epoch 198/250\n",
      "21/21 [==============================] - 0s 5ms/step - loss: 270.9850\n",
      "Epoch 199/250\n",
      "21/21 [==============================] - 0s 4ms/step - loss: 252.8050\n",
      "Epoch 200/250\n",
      "21/21 [==============================] - 0s 4ms/step - loss: 239.6528\n",
      "Epoch 201/250\n",
      "21/21 [==============================] - 0s 4ms/step - loss: 225.5111\n",
      "Epoch 202/250\n",
      "21/21 [==============================] - 0s 4ms/step - loss: 212.0810\n",
      "Epoch 203/250\n",
      "21/21 [==============================] - 0s 4ms/step - loss: 199.2059\n",
      "Epoch 204/250\n",
      "21/21 [==============================] - 0s 4ms/step - loss: 185.2783\n",
      "Epoch 205/250\n",
      "21/21 [==============================] - 0s 4ms/step - loss: 172.7588\n",
      "Epoch 206/250\n",
      "21/21 [==============================] - 0s 4ms/step - loss: 160.7580\n",
      "Epoch 207/250\n",
      "21/21 [==============================] - 0s 4ms/step - loss: 150.5277\n",
      "Epoch 208/250\n",
      "21/21 [==============================] - 0s 4ms/step - loss: 142.1004\n",
      "Epoch 209/250\n",
      "21/21 [==============================] - 0s 4ms/step - loss: 133.0900\n",
      "Epoch 210/250\n",
      "21/21 [==============================] - 0s 4ms/step - loss: 124.6345\n",
      "Epoch 211/250\n",
      "21/21 [==============================] - 0s 5ms/step - loss: 120.7922\n",
      "Epoch 212/250\n",
      "21/21 [==============================] - 0s 3ms/step - loss: 114.3064\n",
      "Epoch 213/250\n",
      "21/21 [==============================] - 0s 4ms/step - loss: 108.2220\n",
      "Epoch 214/250\n",
      "21/21 [==============================] - 0s 4ms/step - loss: 104.9744\n",
      "Epoch 215/250\n",
      "21/21 [==============================] - 0s 4ms/step - loss: 101.0574\n",
      "Epoch 216/250\n",
      "21/21 [==============================] - 0s 4ms/step - loss: 95.8592\n",
      "Epoch 217/250\n",
      "21/21 [==============================] - 0s 4ms/step - loss: 93.9350\n",
      "Epoch 218/250\n",
      "21/21 [==============================] - 0s 5ms/step - loss: 90.3611\n",
      "Epoch 219/250\n",
      "21/21 [==============================] - 0s 6ms/step - loss: 89.2251\n",
      "Epoch 220/250\n",
      "21/21 [==============================] - 0s 6ms/step - loss: 84.9313\n",
      "Epoch 221/250\n",
      "21/21 [==============================] - 0s 6ms/step - loss: 83.5847\n",
      "Epoch 222/250\n",
      "21/21 [==============================] - 0s 5ms/step - loss: 83.1877\n",
      "Epoch 223/250\n",
      "21/21 [==============================] - 0s 9ms/step - loss: 81.6960\n",
      "Epoch 224/250\n",
      "21/21 [==============================] - 0s 8ms/step - loss: 80.8220\n",
      "Epoch 225/250\n",
      "21/21 [==============================] - 0s 10ms/step - loss: 80.1320\n",
      "Epoch 226/250\n",
      "21/21 [==============================] - 0s 6ms/step - loss: 78.4027\n",
      "Epoch 227/250\n",
      "21/21 [==============================] - 0s 6ms/step - loss: 77.8541\n",
      "Epoch 228/250\n",
      "21/21 [==============================] - 0s 4ms/step - loss: 78.5327\n",
      "Epoch 229/250\n",
      "21/21 [==============================] - 0s 4ms/step - loss: 77.1122\n",
      "Epoch 230/250\n",
      "21/21 [==============================] - 0s 6ms/step - loss: 77.0394\n",
      "Epoch 231/250\n",
      "21/21 [==============================] - 0s 3ms/step - loss: 75.3468\n",
      "Epoch 232/250\n",
      "21/21 [==============================] - 0s 4ms/step - loss: 75.5795\n",
      "Epoch 233/250\n",
      "21/21 [==============================] - 0s 3ms/step - loss: 75.7424\n",
      "Epoch 234/250\n",
      "21/21 [==============================] - 0s 4ms/step - loss: 75.4399\n",
      "Epoch 235/250\n",
      "21/21 [==============================] - 0s 5ms/step - loss: 76.2483\n",
      "Epoch 236/250\n",
      "21/21 [==============================] - 0s 7ms/step - loss: 75.3012\n",
      "Epoch 237/250\n",
      "21/21 [==============================] - 0s 5ms/step - loss: 76.4828\n",
      "Epoch 238/250\n",
      "21/21 [==============================] - 0s 6ms/step - loss: 74.9347\n",
      "Epoch 239/250\n",
      "21/21 [==============================] - 0s 4ms/step - loss: 74.6394\n",
      "Epoch 240/250\n",
      "21/21 [==============================] - 0s 5ms/step - loss: 75.2106\n",
      "Epoch 241/250\n",
      "21/21 [==============================] - 0s 5ms/step - loss: 74.3817\n",
      "Epoch 242/250\n",
      "21/21 [==============================] - 0s 5ms/step - loss: 74.1653\n",
      "Epoch 243/250\n",
      "21/21 [==============================] - 0s 4ms/step - loss: 74.7623\n",
      "Epoch 244/250\n",
      "21/21 [==============================] - 0s 8ms/step - loss: 75.0079\n",
      "Epoch 245/250\n",
      "21/21 [==============================] - 0s 6ms/step - loss: 74.9009\n",
      "Epoch 246/250\n",
      "21/21 [==============================] - 0s 4ms/step - loss: 74.9842\n",
      "Epoch 247/250\n",
      "21/21 [==============================] - 0s 4ms/step - loss: 74.0986\n",
      "Epoch 248/250\n",
      "21/21 [==============================] - 0s 4ms/step - loss: 75.3011\n",
      "Epoch 249/250\n",
      "21/21 [==============================] - 0s 4ms/step - loss: 74.9510\n",
      "Epoch 250/250\n",
      "21/21 [==============================] - 0s 4ms/step - loss: 74.9844\n"
     ]
    },
    {
     "data": {
      "text/plain": [
       "<keras.callbacks.History at 0x16dc5254fd0>"
      ]
     },
     "execution_count": 18,
     "metadata": {},
     "output_type": "execute_result"
    }
   ],
   "source": [
    "model.fit(x_train, y_train, epochs=250)"
   ]
  },
  {
   "cell_type": "code",
   "execution_count": 19,
   "id": "d8af34b6",
   "metadata": {},
   "outputs": [],
   "source": [
    "los = model.history.history[\"loss\"]"
   ]
  },
  {
   "cell_type": "code",
   "execution_count": 20,
   "id": "58e6c7fe",
   "metadata": {},
   "outputs": [
    {
     "data": {
      "text/plain": [
       "<AxesSubplot:>"
      ]
     },
     "execution_count": 20,
     "metadata": {},
     "output_type": "execute_result"
    },
    {
     "data": {
      "image/png": "[encoded data removed]",
      "text/plain": [
       "<Figure size 432x288 with 1 Axes>"
      ]
     },
     "metadata": {
      "needs_background": "light"
     },
     "output_type": "display_data"
    }
   ],
   "source": [
    "sbn.lineplot(x=range(len(los)), y=los)"
   ]
  },
  {
   "cell_type": "code",
   "execution_count": 21,
   "id": "68d729cb",
   "metadata": {},
   "outputs": [],
   "source": [
    "trainLos = model.evaluate(x_train, y_train, verbose=0)\n",
    "\n",
    "# Burada model.evaluate ile modeli değerlendiriyoruz.\n",
    "# Bu değerlendirmenin birini train diğerini test için yaparak\n",
    "# ne kadar birbirine yakın olduklarına bakıyoruz."
   ]
  },
  {
   "cell_type": "code",
   "execution_count": 22,
   "id": "dbcf280f",
   "metadata": {},
   "outputs": [],
   "source": [
    "testLos = model.evaluate(x_test, y_test, verbose=0)"
   ]
  },
  {
   "cell_type": "code",
   "execution_count": 23,
   "id": "420e2ae6",
   "metadata": {},
   "outputs": [
    {
     "data": {
      "text/plain": [
       "73.3077621459961"
      ]
     },
     "execution_count": 23,
     "metadata": {},
     "output_type": "execute_result"
    }
   ],
   "source": [
    "trainLos"
   ]
  },
  {
   "cell_type": "code",
   "execution_count": 24,
   "id": "0c37b87e",
   "metadata": {},
   "outputs": [
    {
     "data": {
      "text/plain": [
       "75.09516906738281"
      ]
     },
     "execution_count": 24,
     "metadata": {},
     "output_type": "execute_result"
    }
   ],
   "source": [
    "testLos"
   ]
  },
  {
   "cell_type": "code",
   "execution_count": 25,
   "id": "85c82ee5",
   "metadata": {},
   "outputs": [
    {
     "name": "stdout",
     "output_type": "stream",
     "text": [
      "11/11 [==============================] - 0s 2ms/step\n"
     ]
    }
   ],
   "source": [
    "testPredicts = model.predict(x_test)"
   ]
  },
  {
   "cell_type": "code",
   "execution_count": 26,
   "id": "0a80b15c",
   "metadata": {},
   "outputs": [
    {
     "data": {
      "text/plain": [
       "array([[1078.11   ],\n",
       "       [ 624.2376 ],\n",
       "       [ 876.4416 ],\n",
       "       [ 894.74396],\n",
       "       [ 900.03516],\n",
       "       [ 452.28687],\n",
       "       [ 931.52374],\n",
       "       [ 991.8321 ],\n",
       "       [ 941.40753],\n",
       "       [1017.12427],\n",
       "       [ 751.2994 ],\n",
       "       [ 918.1    ],\n",
       "       [ 947.97894],\n",
       "       [1054.9899 ],\n",
       "       [1121.6152 ],\n",
       "       [ 682.0467 ],\n",
       "       [1127.4208 ],\n",
       "       [ 651.5694 ],\n",
       "       [1155.0642 ],\n",
       "       [ 886.8773 ],\n",
       "       [ 893.1906 ],\n",
       "       [ 717.07184],\n",
       "       [ 457.20297],\n",
       "       [ 612.66016],\n",
       "       [ 835.3093 ],\n",
       "       [1091.4484 ],\n",
       "       [ 714.25085],\n",
       "       [ 757.3536 ],\n",
       "       [ 873.9447 ],\n",
       "       [ 771.073  ],\n",
       "       [ 451.86948],\n",
       "       [ 783.38403],\n",
       "       [ 728.7255 ],\n",
       "       [ 647.3403 ],\n",
       "       [ 887.1418 ],\n",
       "       [ 844.2133 ],\n",
       "       [1036.0302 ],\n",
       "       [1023.2576 ],\n",
       "       [ 845.26373],\n",
       "       [ 862.6601 ],\n",
       "       [ 757.5317 ],\n",
       "       [1174.9753 ],\n",
       "       [1097.9261 ],\n",
       "       [1088.1107 ],\n",
       "       [ 873.3757 ],\n",
       "       [ 597.071  ],\n",
       "       [1146.2506 ],\n",
       "       [ 973.6121 ],\n",
       "       [1042.1505 ],\n",
       "       [ 858.38165],\n",
       "       [ 804.35223],\n",
       "       [ 859.6641 ],\n",
       "       [ 794.9849 ],\n",
       "       [1011.6973 ],\n",
       "       [1035.3976 ],\n",
       "       [ 934.7383 ],\n",
       "       [ 947.1004 ],\n",
       "       [1076.1868 ],\n",
       "       [ 885.45636],\n",
       "       [1011.09827],\n",
       "       [ 787.73785],\n",
       "       [ 850.78894],\n",
       "       [ 726.31903],\n",
       "       [ 894.46216],\n",
       "       [ 971.3204 ],\n",
       "       [ 700.78424],\n",
       "       [ 796.15607],\n",
       "       [ 808.4128 ],\n",
       "       [ 858.4357 ],\n",
       "       [ 827.4138 ],\n",
       "       [ 802.9609 ],\n",
       "       [ 939.66113],\n",
       "       [1059.9219 ],\n",
       "       [ 946.4812 ],\n",
       "       [ 989.9432 ],\n",
       "       [ 667.7611 ],\n",
       "       [ 639.6577 ],\n",
       "       [ 698.9393 ],\n",
       "       [ 879.5401 ],\n",
       "       [ 908.2894 ],\n",
       "       [ 981.81635],\n",
       "       [ 989.3653 ],\n",
       "       [ 613.56415],\n",
       "       [ 863.3475 ],\n",
       "       [ 623.6783 ],\n",
       "       [ 959.3926 ],\n",
       "       [ 829.1777 ],\n",
       "       [ 896.67584],\n",
       "       [ 875.32434],\n",
       "       [ 632.5418 ],\n",
       "       [ 796.96844],\n",
       "       [ 710.1324 ],\n",
       "       [1195.151  ],\n",
       "       [ 893.55133],\n",
       "       [ 830.66364],\n",
       "       [1101.5712 ],\n",
       "       [ 854.1778 ],\n",
       "       [ 966.351  ],\n",
       "       [ 966.5575 ],\n",
       "       [ 439.0629 ],\n",
       "       [ 988.2033 ],\n",
       "       [1063.5573 ],\n",
       "       [ 881.1221 ],\n",
       "       [1056.1151 ],\n",
       "       [ 562.7101 ],\n",
       "       [ 664.28845],\n",
       "       [ 858.132  ],\n",
       "       [ 711.9872 ],\n",
       "       [ 920.6502 ],\n",
       "       [ 926.67285],\n",
       "       [ 720.4068 ],\n",
       "       [ 884.48535],\n",
       "       [ 980.9538 ],\n",
       "       [1062.7522 ],\n",
       "       [ 692.3744 ],\n",
       "       [ 907.79456],\n",
       "       [ 856.6015 ],\n",
       "       [ 867.62445],\n",
       "       [1032.6012 ],\n",
       "       [ 786.59045],\n",
       "       [ 713.3275 ],\n",
       "       [ 860.8331 ],\n",
       "       [1131.2589 ],\n",
       "       [ 800.8413 ],\n",
       "       [ 824.6786 ],\n",
       "       [ 898.25696],\n",
       "       [ 775.5633 ],\n",
       "       [ 933.19464],\n",
       "       [ 963.9715 ],\n",
       "       [ 922.54065],\n",
       "       [ 947.59467],\n",
       "       [1098.6019 ],\n",
       "       [1031.973  ],\n",
       "       [ 801.4997 ],\n",
       "       [ 756.5463 ],\n",
       "       [ 772.35175],\n",
       "       [ 736.8267 ],\n",
       "       [ 740.31586],\n",
       "       [ 677.35297],\n",
       "       [1137.216  ],\n",
       "       [ 649.92694],\n",
       "       [ 981.6647 ],\n",
       "       [ 707.83075],\n",
       "       [ 895.15576],\n",
       "       [ 988.1536 ],\n",
       "       [ 605.90765],\n",
       "       [ 741.77704],\n",
       "       [ 786.7895 ],\n",
       "       [ 868.5433 ],\n",
       "       [ 746.8184 ],\n",
       "       [ 557.4589 ],\n",
       "       [ 636.2989 ],\n",
       "       [ 732.57916],\n",
       "       [1055.9    ],\n",
       "       [1111.6134 ],\n",
       "       [ 901.9163 ],\n",
       "       [ 715.22144],\n",
       "       [ 790.20306],\n",
       "       [ 879.32166],\n",
       "       [ 956.4533 ],\n",
       "       [ 600.9987 ],\n",
       "       [ 851.50665],\n",
       "       [ 882.3719 ],\n",
       "       [ 633.7098 ],\n",
       "       [ 917.91205],\n",
       "       [ 998.86316],\n",
       "       [1186.0913 ],\n",
       "       [ 804.65546],\n",
       "       [ 740.467  ],\n",
       "       [ 961.97455],\n",
       "       [ 715.9729 ],\n",
       "       [1015.11505],\n",
       "       [1227.2566 ],\n",
       "       [ 901.06104],\n",
       "       [ 881.6884 ],\n",
       "       [ 649.94403],\n",
       "       [ 610.82385],\n",
       "       [ 742.6829 ],\n",
       "       [ 963.55316],\n",
       "       [ 699.96954],\n",
       "       [ 765.4808 ],\n",
       "       [ 816.0222 ],\n",
       "       [ 692.672  ],\n",
       "       [ 922.047  ],\n",
       "       [ 872.9471 ],\n",
       "       [ 612.6812 ],\n",
       "       [1063.2615 ],\n",
       "       [ 946.53986],\n",
       "       [1150.4238 ],\n",
       "       [ 786.6382 ],\n",
       "       [ 879.97034],\n",
       "       [ 657.74176],\n",
       "       [ 668.32227],\n",
       "       [ 734.3467 ],\n",
       "       [ 683.2571 ],\n",
       "       [1081.4808 ],\n",
       "       [ 785.8029 ],\n",
       "       [ 856.90204],\n",
       "       [1145.3337 ],\n",
       "       [ 585.69305],\n",
       "       [ 957.50446],\n",
       "       [ 662.03143],\n",
       "       [ 570.3213 ],\n",
       "       [ 749.7088 ],\n",
       "       [ 596.2324 ],\n",
       "       [1005.2401 ],\n",
       "       [1033.8021 ],\n",
       "       [ 632.3815 ],\n",
       "       [ 938.8359 ],\n",
       "       [ 828.66974],\n",
       "       [1135.079  ],\n",
       "       [ 918.6495 ],\n",
       "       [ 887.26605],\n",
       "       [ 977.77985],\n",
       "       [1036.6808 ],\n",
       "       [ 878.6589 ],\n",
       "       [ 852.20953],\n",
       "       [ 837.9894 ],\n",
       "       [ 653.5196 ],\n",
       "       [1349.3429 ],\n",
       "       [ 925.47626],\n",
       "       [ 533.08405],\n",
       "       [ 796.9832 ],\n",
       "       [ 991.7587 ],\n",
       "       [ 856.18207],\n",
       "       [ 792.78314],\n",
       "       [ 679.39105],\n",
       "       [ 789.77405],\n",
       "       [ 973.2587 ],\n",
       "       [ 919.28937],\n",
       "       [ 998.80975],\n",
       "       [ 945.5275 ],\n",
       "       [ 905.43396],\n",
       "       [ 743.5583 ],\n",
       "       [1060.641  ],\n",
       "       [1140.3151 ],\n",
       "       [1011.6861 ],\n",
       "       [1014.40826],\n",
       "       [ 996.2373 ],\n",
       "       [ 852.32794],\n",
       "       [1010.31976],\n",
       "       [ 627.41156],\n",
       "       [ 895.5548 ],\n",
       "       [1067.6306 ],\n",
       "       [ 782.103  ],\n",
       "       [ 568.492  ],\n",
       "       [ 607.7149 ],\n",
       "       [ 991.296  ],\n",
       "       [ 878.6839 ],\n",
       "       [1070.8622 ],\n",
       "       [ 847.5374 ],\n",
       "       [ 744.3622 ],\n",
       "       [ 543.83795],\n",
       "       [ 873.4332 ],\n",
       "       [ 780.69586],\n",
       "       [ 851.4661 ],\n",
       "       [ 888.55524],\n",
       "       [ 910.8851 ],\n",
       "       [ 618.07184],\n",
       "       [1021.1712 ],\n",
       "       [ 629.3879 ],\n",
       "       [ 885.0259 ],\n",
       "       [ 797.5887 ],\n",
       "       [ 916.9153 ],\n",
       "       [ 967.55133],\n",
       "       [ 788.4274 ],\n",
       "       [ 878.862  ],\n",
       "       [1158.7086 ],\n",
       "       [1009.4367 ],\n",
       "       [ 849.1735 ],\n",
       "       [1083.643  ],\n",
       "       [ 997.47473],\n",
       "       [ 585.0151 ],\n",
       "       [ 546.14355],\n",
       "       [ 974.74695],\n",
       "       [1047.28   ],\n",
       "       [ 948.6015 ],\n",
       "       [ 904.589  ],\n",
       "       [ 402.5255 ],\n",
       "       [1018.3132 ],\n",
       "       [ 916.93463],\n",
       "       [ 820.27136],\n",
       "       [ 935.399  ],\n",
       "       [ 928.1795 ],\n",
       "       [ 987.6032 ],\n",
       "       [ 973.70807],\n",
       "       [ 963.96124],\n",
       "       [ 616.11896],\n",
       "       [ 970.8283 ],\n",
       "       [ 978.41626],\n",
       "       [ 882.1287 ],\n",
       "       [ 855.9172 ],\n",
       "       [ 733.59924],\n",
       "       [ 948.3427 ],\n",
       "       [ 889.4765 ],\n",
       "       [ 807.1562 ],\n",
       "       [ 970.1449 ],\n",
       "       [ 834.19543],\n",
       "       [1013.9378 ],\n",
       "       [ 606.6451 ],\n",
       "       [ 573.2193 ],\n",
       "       [ 721.8744 ],\n",
       "       [ 805.8559 ],\n",
       "       [ 887.46796],\n",
       "       [1222.636  ],\n",
       "       [ 609.41864],\n",
       "       [1039.8998 ],\n",
       "       [ 665.2834 ],\n",
       "       [1128.1569 ],\n",
       "       [ 800.7356 ],\n",
       "       [1213.6356 ],\n",
       "       [ 787.79395],\n",
       "       [ 643.8732 ],\n",
       "       [ 893.95636],\n",
       "       [ 923.51746],\n",
       "       [ 844.6361 ],\n",
       "       [ 668.7071 ],\n",
       "       [ 989.9956 ],\n",
       "       [1091.4327 ],\n",
       "       [ 774.80676],\n",
       "       [ 897.33514],\n",
       "       [1058.0342 ],\n",
       "       [ 979.09906],\n",
       "       [ 710.8403 ],\n",
       "       [ 607.02875],\n",
       "       [1013.8536 ],\n",
       "       [ 791.321  ],\n",
       "       [ 766.303  ],\n",
       "       [1167.8314 ],\n",
       "       [ 803.3151 ]], dtype=float32)"
      ]
     },
     "execution_count": 26,
     "metadata": {},
     "output_type": "execute_result"
    }
   ],
   "source": [
    "testPredicts"
   ]
  },
  {
   "cell_type": "code",
   "execution_count": 28,
   "id": "952874f1",
   "metadata": {},
   "outputs": [],
   "source": [
    "predDf = pd.DataFrame(y_test, columns=[\"Real Y\"])"
   ]
  },
  {
   "cell_type": "code",
   "execution_count": 29,
   "id": "43c66826",
   "metadata": {},
   "outputs": [
    {
     "data": {
      "text/html": [
       "<div>\n",
       "<style scoped>\n",
       "    .dataframe tbody tr th:only-of-type {\n",
       "        vertical-align: middle;\n",
       "    }\n",
       "\n",
       "    .dataframe tbody tr th {\n",
       "        vertical-align: top;\n",
       "    }\n",
       "\n",
       "    .dataframe thead th {\n",
       "        text-align: right;\n",
       "    }\n",
       "</style>\n",
       "<table border=\"1\" class=\"dataframe\">\n",
       "  <thead>\n",
       "    <tr style=\"text-align: right;\">\n",
       "      <th></th>\n",
       "      <th>Real Y</th>\n",
       "    </tr>\n",
       "  </thead>\n",
       "  <tbody>\n",
       "    <tr>\n",
       "      <th>0</th>\n",
       "      <td>1081.652164</td>\n",
       "    </tr>\n",
       "    <tr>\n",
       "      <th>1</th>\n",
       "      <td>622.675990</td>\n",
       "    </tr>\n",
       "    <tr>\n",
       "      <th>2</th>\n",
       "      <td>889.356810</td>\n",
       "    </tr>\n",
       "    <tr>\n",
       "      <th>3</th>\n",
       "      <td>902.826733</td>\n",
       "    </tr>\n",
       "    <tr>\n",
       "      <th>4</th>\n",
       "      <td>897.662404</td>\n",
       "    </tr>\n",
       "    <tr>\n",
       "      <th>...</th>\n",
       "      <td>...</td>\n",
       "    </tr>\n",
       "    <tr>\n",
       "      <th>325</th>\n",
       "      <td>1028.438035</td>\n",
       "    </tr>\n",
       "    <tr>\n",
       "      <th>326</th>\n",
       "      <td>789.934950</td>\n",
       "    </tr>\n",
       "    <tr>\n",
       "      <th>327</th>\n",
       "      <td>758.490486</td>\n",
       "    </tr>\n",
       "    <tr>\n",
       "      <th>328</th>\n",
       "      <td>1172.871659</td>\n",
       "    </tr>\n",
       "    <tr>\n",
       "      <th>329</th>\n",
       "      <td>820.947936</td>\n",
       "    </tr>\n",
       "  </tbody>\n",
       "</table>\n",
       "<p>330 rows × 1 columns</p>\n",
       "</div>"
      ],
      "text/plain": [
       "          Real Y\n",
       "0    1081.652164\n",
       "1     622.675990\n",
       "2     889.356810\n",
       "3     902.826733\n",
       "4     897.662404\n",
       "..           ...\n",
       "325  1028.438035\n",
       "326   789.934950\n",
       "327   758.490486\n",
       "328  1172.871659\n",
       "329   820.947936\n",
       "\n",
       "[330 rows x 1 columns]"
      ]
     },
     "execution_count": 29,
     "metadata": {},
     "output_type": "execute_result"
    }
   ],
   "source": [
    "predDf"
   ]
  },
  {
   "cell_type": "code",
   "execution_count": 32,
   "id": "ed3c5fb2",
   "metadata": {},
   "outputs": [],
   "source": [
    "testPredicts = pd.Series(testPredicts)"
   ]
  },
  {
   "cell_type": "code",
   "execution_count": 33,
   "id": "b6b87cd2",
   "metadata": {},
   "outputs": [
    {
     "data": {
      "text/plain": [
       "0      1078.109985\n",
       "1       624.237610\n",
       "2       876.441589\n",
       "3       894.743958\n",
       "4       900.035156\n",
       "          ...     \n",
       "325    1013.853577\n",
       "326     791.320984\n",
       "327     766.302979\n",
       "328    1167.831421\n",
       "329     803.315125\n",
       "Length: 330, dtype: float32"
      ]
     },
     "execution_count": 33,
     "metadata": {},
     "output_type": "execute_result"
    }
   ],
   "source": [
    "testPredicts"
   ]
  },
  {
   "cell_type": "code",
   "execution_count": 34,
   "id": "5863518d",
   "metadata": {},
   "outputs": [],
   "source": [
    "predDf[\"Predict Y\"] = testPredicts"
   ]
  },
  {
   "cell_type": "code",
   "execution_count": 35,
   "id": "efc036df",
   "metadata": {},
   "outputs": [
    {
     "data": {
      "text/html": [
       "<div>\n",
       "<style scoped>\n",
       "    .dataframe tbody tr th:only-of-type {\n",
       "        vertical-align: middle;\n",
       "    }\n",
       "\n",
       "    .dataframe tbody tr th {\n",
       "        vertical-align: top;\n",
       "    }\n",
       "\n",
       "    .dataframe thead th {\n",
       "        text-align: right;\n",
       "    }\n",
       "</style>\n",
       "<table border=\"1\" class=\"dataframe\">\n",
       "  <thead>\n",
       "    <tr style=\"text-align: right;\">\n",
       "      <th></th>\n",
       "      <th>Real Y</th>\n",
       "      <th>Predict Y</th>\n",
       "    </tr>\n",
       "  </thead>\n",
       "  <tbody>\n",
       "    <tr>\n",
       "      <th>0</th>\n",
       "      <td>1081.652164</td>\n",
       "      <td>1078.109985</td>\n",
       "    </tr>\n",
       "    <tr>\n",
       "      <th>1</th>\n",
       "      <td>622.675990</td>\n",
       "      <td>624.237610</td>\n",
       "    </tr>\n",
       "    <tr>\n",
       "      <th>2</th>\n",
       "      <td>889.356810</td>\n",
       "      <td>876.441589</td>\n",
       "    </tr>\n",
       "    <tr>\n",
       "      <th>3</th>\n",
       "      <td>902.826733</td>\n",
       "      <td>894.743958</td>\n",
       "    </tr>\n",
       "    <tr>\n",
       "      <th>4</th>\n",
       "      <td>897.662404</td>\n",
       "      <td>900.035156</td>\n",
       "    </tr>\n",
       "    <tr>\n",
       "      <th>...</th>\n",
       "      <td>...</td>\n",
       "      <td>...</td>\n",
       "    </tr>\n",
       "    <tr>\n",
       "      <th>325</th>\n",
       "      <td>1028.438035</td>\n",
       "      <td>1013.853577</td>\n",
       "    </tr>\n",
       "    <tr>\n",
       "      <th>326</th>\n",
       "      <td>789.934950</td>\n",
       "      <td>791.320984</td>\n",
       "    </tr>\n",
       "    <tr>\n",
       "      <th>327</th>\n",
       "      <td>758.490486</td>\n",
       "      <td>766.302979</td>\n",
       "    </tr>\n",
       "    <tr>\n",
       "      <th>328</th>\n",
       "      <td>1172.871659</td>\n",
       "      <td>1167.831421</td>\n",
       "    </tr>\n",
       "    <tr>\n",
       "      <th>329</th>\n",
       "      <td>820.947936</td>\n",
       "      <td>803.315125</td>\n",
       "    </tr>\n",
       "  </tbody>\n",
       "</table>\n",
       "<p>330 rows × 2 columns</p>\n",
       "</div>"
      ],
      "text/plain": [
       "          Real Y    Predict Y\n",
       "0    1081.652164  1078.109985\n",
       "1     622.675990   624.237610\n",
       "2     889.356810   876.441589\n",
       "3     902.826733   894.743958\n",
       "4     897.662404   900.035156\n",
       "..           ...          ...\n",
       "325  1028.438035  1013.853577\n",
       "326   789.934950   791.320984\n",
       "327   758.490486   766.302979\n",
       "328  1172.871659  1167.831421\n",
       "329   820.947936   803.315125\n",
       "\n",
       "[330 rows x 2 columns]"
      ]
     },
     "execution_count": 35,
     "metadata": {},
     "output_type": "execute_result"
    }
   ],
   "source": [
    "predDf"
   ]
  },
  {
   "cell_type": "code",
   "execution_count": 37,
   "id": "0944fd33",
   "metadata": {},
   "outputs": [
    {
     "data": {
      "text/plain": [
       "<AxesSubplot:xlabel='Real Y', ylabel='Predict Y'>"
      ]
     },
     "execution_count": 37,
     "metadata": {},
     "output_type": "execute_result"
    },
    {
     "data": {
      "image/png": "[encoded data removed]",
      "text/plain": [
       "<Figure size 432x288 with 1 Axes>"
      ]
     },
     "metadata": {
      "needs_background": "light"
     },
     "output_type": "display_data"
    }
   ],
   "source": [
    "sbn.scatterplot(x = \"Real Y\", y = \"Predict Y\", data = predDf)"
   ]
  },
  {
   "cell_type": "code",
   "execution_count": 39,
   "id": "a02b0651",
   "metadata": {},
   "outputs": [],
   "source": [
    "from sklearn.metrics import mean_absolute_error, mean_squared_error"
   ]
  },
  {
   "cell_type": "code",
   "execution_count": 40,
   "id": "553d1434",
   "metadata": {},
   "outputs": [
    {
     "data": {
      "text/plain": [
       "6.936596043022016"
      ]
     },
     "execution_count": 40,
     "metadata": {},
     "output_type": "execute_result"
    }
   ],
   "source": [
    "mean_absolute_error(predDf[\"Real Y\"], predDf[\"Predict Y\"])\n",
    "\n",
    "# Bu bizim aslında sapmamızı gösteriyor. Bun iyi mi kötü mü ?\n",
    "# sorusu ne yaptığımıza göre değişir. Bizim öreneğimizde verilen\n",
    "# şey bisiklet özellikleri ve fiyatıydı. Yani aslında tahmin\n",
    "# edilen şey bisiklet fiyatı diyebiliriz. Ve aşağıdaki değer\n",
    "# kadar sapmamız var."
   ]
  },
  {
   "cell_type": "code",
   "execution_count": 41,
   "id": "a09a0cea",
   "metadata": {},
   "outputs": [
    {
     "data": {
      "text/html": [
       "<div>\n",
       "<style scoped>\n",
       "    .dataframe tbody tr th:only-of-type {\n",
       "        vertical-align: middle;\n",
       "    }\n",
       "\n",
       "    .dataframe tbody tr th {\n",
       "        vertical-align: top;\n",
       "    }\n",
       "\n",
       "    .dataframe thead th {\n",
       "        text-align: right;\n",
       "    }\n",
       "</style>\n",
       "<table border=\"1\" class=\"dataframe\">\n",
       "  <thead>\n",
       "    <tr style=\"text-align: right;\">\n",
       "      <th></th>\n",
       "      <th>Fiyat</th>\n",
       "      <th>BisikletOzellik1</th>\n",
       "      <th>BisikletOzellik2</th>\n",
       "    </tr>\n",
       "  </thead>\n",
       "  <tbody>\n",
       "    <tr>\n",
       "      <th>count</th>\n",
       "      <td>1000.000000</td>\n",
       "      <td>1000.000000</td>\n",
       "      <td>1000.000000</td>\n",
       "    </tr>\n",
       "    <tr>\n",
       "      <th>mean</th>\n",
       "      <td>872.677801</td>\n",
       "      <td>1750.024800</td>\n",
       "      <td>1749.964733</td>\n",
       "    </tr>\n",
       "    <tr>\n",
       "      <th>std</th>\n",
       "      <td>164.124504</td>\n",
       "      <td>1.704531</td>\n",
       "      <td>1.659578</td>\n",
       "    </tr>\n",
       "    <tr>\n",
       "      <th>min</th>\n",
       "      <td>390.856887</td>\n",
       "      <td>1744.852108</td>\n",
       "      <td>1744.742389</td>\n",
       "    </tr>\n",
       "    <tr>\n",
       "      <th>25%</th>\n",
       "      <td>757.795031</td>\n",
       "      <td>1748.831119</td>\n",
       "      <td>1748.803186</td>\n",
       "    </tr>\n",
       "    <tr>\n",
       "      <th>50%</th>\n",
       "      <td>879.168705</td>\n",
       "      <td>1750.017350</td>\n",
       "      <td>1750.003926</td>\n",
       "    </tr>\n",
       "    <tr>\n",
       "      <th>75%</th>\n",
       "      <td>988.612778</td>\n",
       "      <td>1751.115765</td>\n",
       "      <td>1751.129414</td>\n",
       "    </tr>\n",
       "    <tr>\n",
       "      <th>max</th>\n",
       "      <td>1355.213745</td>\n",
       "      <td>1755.613884</td>\n",
       "      <td>1754.666038</td>\n",
       "    </tr>\n",
       "  </tbody>\n",
       "</table>\n",
       "</div>"
      ],
      "text/plain": [
       "             Fiyat  BisikletOzellik1  BisikletOzellik2\n",
       "count  1000.000000       1000.000000       1000.000000\n",
       "mean    872.677801       1750.024800       1749.964733\n",
       "std     164.124504          1.704531          1.659578\n",
       "min     390.856887       1744.852108       1744.742389\n",
       "25%     757.795031       1748.831119       1748.803186\n",
       "50%     879.168705       1750.017350       1750.003926\n",
       "75%     988.612778       1751.115765       1751.129414\n",
       "max    1355.213745       1755.613884       1754.666038"
      ]
     },
     "execution_count": 41,
     "metadata": {},
     "output_type": "execute_result"
    }
   ],
   "source": [
    "dataFrame.describe()"
   ]
  },
  {
   "cell_type": "code",
   "execution_count": 42,
   "id": "36715236",
   "metadata": {},
   "outputs": [],
   "source": [
    "# Yukarda modelimize test verilerini verdik. Bu test değerlerine\n",
    "# ait tahminler elde ettik. Şimdi test etmek istediğimiz şeyi\n",
    "# bu şekil toplu vermek yerine tek tek vermek istiyoruz.\n",
    "\n",
    "newBiCycleFeat = [[1751, 1749]] # yeni bir bisk. tanımladık\n",
    "newBiCycleFeat = scaler.transform(newBiCycleFeat)\n",
    "\n",
    "# tanımladığımız yeni bisk. özelliklerini küçülttük."
   ]
  },
  {
   "cell_type": "code",
   "execution_count": 43,
   "id": "64b3b967",
   "metadata": {},
   "outputs": [
    {
     "name": "stdout",
     "output_type": "stream",
     "text": [
      "1/1 [==============================] - 0s 410ms/step\n"
     ]
    },
    {
     "data": {
      "text/plain": [
       "array([[826.14905]], dtype=float32)"
      ]
     },
     "execution_count": 43,
     "metadata": {},
     "output_type": "execute_result"
    }
   ],
   "source": [
    "model.predict(newBiCycleFeat)"
   ]
  },
  {
   "cell_type": "code",
   "execution_count": 44,
   "id": "c23c1618",
   "metadata": {},
   "outputs": [],
   "source": [
    "# modelimiz yeni verdiğimiz değerler için bize bir tahmini fiyat\n",
    "# verdi. Şimdi modelimizi kaydedelim.\n",
    "\n",
    "from tensorflow.keras.models import load_model"
   ]
  },
  {
   "cell_type": "code",
   "execution_count": 45,
   "id": "0d0e759a",
   "metadata": {},
   "outputs": [],
   "source": [
    "model.save(\"bisiklet_modeli.h5\") # burada kaydettik"
   ]
  },
  {
   "cell_type": "code",
   "execution_count": 46,
   "id": "d16da3e9",
   "metadata": {},
   "outputs": [],
   "source": [
    "sonradanCagirilanModel = load_model(\"bisiklet_modeli.h5\") # burada kaydettiğimiz modeli tekrar çağırdık."
   ]
  },
  {
   "cell_type": "code",
   "execution_count": 47,
   "id": "492d59b7",
   "metadata": {},
   "outputs": [
    {
     "name": "stdout",
     "output_type": "stream",
     "text": [
      "1/1 [==============================] - 0s 153ms/step\n"
     ]
    },
    {
     "data": {
      "text/plain": [
       "array([[826.14905]], dtype=float32)"
      ]
     },
     "execution_count": 47,
     "metadata": {},
     "output_type": "execute_result"
    }
   ],
   "source": [
    "sonradanCagirilanModel.predict(newBiCycleFeat)"
   ]
  },
  {
   "cell_type": "code",
   "execution_count": null,
   "id": "73756844",
   "metadata": {},
   "outputs": [],
   "source": []
  }
 ],
 "metadata": {
  "kernelspec": {
   "display_name": "Python 3 (ipykernel)",
   "language": "python",
   "name": "python3"
  },
  "language_info": {
   "codemirror_mode": {
    "name": "ipython",
    "version": 3
   },
   "file_extension": ".py",
   "mimetype": "text/x-python",
   "name": "python",
   "nbconvert_exporter": "python",
   "pygments_lexer": "ipython3",
   "version": "3.9.12"
  }
 },
 "nbformat": 4,
 "nbformat_minor": 5
}
